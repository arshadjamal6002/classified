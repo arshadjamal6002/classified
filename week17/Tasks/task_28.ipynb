{
 "cells": [
  {
   "cell_type": "markdown",
   "metadata": {
    "id": "1-EbgBO3hInD"
   },
   "source": [
    "**Problem:**\n",
    "\n",
    "You are given the following dataset:\n",
    "1. **Audible Data** : https://1drv.ms/u/s!AiqdXCxPTydhoog8ckLN-6Cw55fzIg?e=EWgZ5d\n",
    "\n",
    "Your task is to:\n",
    "- Find the problems with the datasets.\n",
    "- Define the Data Quality Dimensions.\n",
    "- Try to clean the datasets."
   ]
  },
  {
   "cell_type": "markdown",
   "metadata": {},
   "source": [
    "#### Kaggle link (if needed) : https://www.kaggle.com/datasets/snehangsude/audible-dataset/data"
   ]
  },
  {
   "cell_type": "code",
   "execution_count": null,
   "metadata": {
    "id": "nxoqZxJMhI_y"
   },
   "outputs": [],
   "source": []
  }
 ],
 "metadata": {
  "colab": {
   "provenance": []
  },
  "kernelspec": {
   "display_name": "Python 3",
   "name": "python3"
  },
  "language_info": {
   "name": "python"
  }
 },
 "nbformat": 4,
 "nbformat_minor": 0
}
